{
 "cells": [
  {
   "cell_type": "markdown",
   "metadata": {},
   "source": [
    "# Homework 1, BEE 6940 (Due By 2/2/23, 9:00PM)"
   ]
  },
  {
   "cell_type": "markdown",
   "metadata": {},
   "source": [
    "**Name**:\n",
    "\n",
    "**ID**:"
   ]
  },
  {
   "cell_type": "markdown",
   "metadata": {},
   "source": [
    "## Overview"
   ]
  },
  {
   "cell_type": "markdown",
   "metadata": {},
   "source": [
    "### Instructions\n",
    "\n",
    "- Problems 1-4 consist of a series of code snippets for you to interpret and debug. For Problems 1-3, you will be asked to identify relevant error(s) and fix the code. For Problem 4, the code works as intended; your goal is to identify the code's purpose by following its logic.\n",
    "- Problem 5 asks you to rewrite a \"script\" into a function, which you will then use to conduct an experiment."
   ]
  },
  {
   "cell_type": "markdown",
   "metadata": {},
   "source": [
    "### Load Environment\n",
    "\n",
    "The following code loads the environment and makes sure all needed packages are installed. This should be at the start of most Julia scripts."
   ]
  },
  {
   "cell_type": "code",
   "execution_count": 1,
   "metadata": {},
   "outputs": [
    {
     "name": "stdout",
     "output_type": "stream",
     "text": [
      "  Activating project at `~/Teaching/BEE6940/hw/hw1`\n"
     ]
    }
   ],
   "source": [
    "import Pkg\n",
    "Pkg.activate(@__DIR__)\n",
    "Pkg.instantiate()"
   ]
  },
  {
   "cell_type": "markdown",
   "metadata": {},
   "source": [
    "## Problems (Total: 100 Points)"
   ]
  },
  {
   "cell_type": "markdown",
   "metadata": {},
   "source": [
    "### Problem 1 (20 points)\n",
    "\n",
    "You've been tasked with writing code to identify the minimum value in an array. You cannot use a predefined function. Your colleague suggested the function below, but it does not return the minimum value."
   ]
  },
  {
   "cell_type": "code",
   "execution_count": 2,
   "metadata": {},
   "outputs": [
    {
     "name": "stdout",
     "output_type": "stream",
     "text": [
      "minimum(array_values) = 0\n"
     ]
    }
   ],
   "source": [
    "function minimum(array)\n",
    "    min_value = 0\n",
    "    for i in 1:length(array)\n",
    "        if array[i] < min_value\n",
    "            min_value = array[i]\n",
    "        end\n",
    "    end\n",
    "    return min_value\n",
    "end\n",
    "\n",
    "array_values = [89, 90, 95, 100, 100, 78, 99, 98, 100, 95]\n",
    "@show minimum(array_values);"
   ]
  },
  {
   "cell_type": "markdown",
   "metadata": {},
   "source": [
    "#### Problem 1.1 (10 points)\n",
    "\n",
    "Describe the logic error."
   ]
  },
  {
   "cell_type": "markdown",
   "metadata": {},
   "source": [
    "#### Problem 1.2 (5 points)\n",
    "\n",
    "Write a fixed version of the function."
   ]
  },
  {
   "cell_type": "markdown",
   "metadata": {},
   "source": [
    "#### Problem 1.3 (5 points)\n",
    "\n",
    "Use your fixed function to find the minimum value of `array_values`."
   ]
  },
  {
   "cell_type": "markdown",
   "metadata": {},
   "source": [
    "### Problem 2 (20 points)\n",
    "\n",
    "Your team is trying to compute the average grade for your class, but the following code produces an error."
   ]
  },
  {
   "cell_type": "code",
   "execution_count": 3,
   "metadata": {},
   "outputs": [
    {
     "name": "stdout",
     "output_type": "stream",
     "text": [
      "UndefVarError: average_grade not defined"
     ]
    }
   ],
   "source": [
    "student_grades = [89, 90, 95, 100, 100, 78, 99, 98, 100, 95]\n",
    "function class_average(grades)\n",
    "  average_grade = mean(student_grades)\n",
    "  return average_grade\n",
    "end\n",
    "\n",
    "@show average_grade;"
   ]
  },
  {
   "cell_type": "markdown",
   "metadata": {},
   "source": [
    "#### Problem 2.1 (10 points)\n",
    "\n",
    "Describe the logic and/or syntax error."
   ]
  },
  {
   "cell_type": "markdown",
   "metadata": {},
   "source": [
    "#### Problem 2.2 (5 points)\n",
    "\n",
    "Write a fixed version of the code."
   ]
  },
  {
   "cell_type": "markdown",
   "metadata": {},
   "source": [
    "#### Problem 2.3 (5 points)\n",
    "\n",
    "Use your fixed code to compute the average grade for the class."
   ]
  },
  {
   "cell_type": "markdown",
   "metadata": {},
   "source": [
    "### Problem 3 (20 points)\n",
    "\n",
    "Your team has collected data on the mileage of different car models. You want to calculate the average mileage per gallon (MPG) for the different cars, but your code produces the same value for all of the vehicles, which makes you suspicious."
   ]
  },
  {
   "cell_type": "code",
   "execution_count": 4,
   "metadata": {},
   "outputs": [
    {
     "name": "stdout",
     "output_type": "stream",
     "text": [
      "mpg = [30.363636363636363, 30.363636363636363, 30.363636363636363, 30.363636363636363, 30.363636363636363, 30.363636363636363]\n"
     ]
    }
   ],
   "source": [
    "function calculate_MPG((miles, gallons))\n",
    "    return miles / gallons\n",
    "end\n",
    "\n",
    "car_miles =  [(334, 11), (289, 15), (306, 12), (303, 20), (350, 20), (294, 14)]\n",
    "\n",
    "mpg = zeros(length(car_miles))\n",
    "\n",
    "for i in 1:length(car_miles)\n",
    "    miles = car_miles[1][1]\n",
    "    gallon = car_miles[1][2]\n",
    "    mpg[i] = calculate_MPG((miles, gallon))\n",
    "end\n",
    "@show mpg;"
   ]
  },
  {
   "cell_type": "markdown",
   "metadata": {},
   "source": [
    "##### Problem 3.1 (10 points)\n",
    "\n",
    "Describe the logic error."
   ]
  },
  {
   "cell_type": "markdown",
   "metadata": {},
   "source": [
    "#### Problem 3.2 (5 points)\n",
    "\n",
    "Write a fixed version of the code."
   ]
  },
  {
   "cell_type": "markdown",
   "metadata": {},
   "source": [
    "#### Problem 3.3 (5 points)\n",
    "\n",
    "Use your fixed code to compute the MPGs."
   ]
  },
  {
   "cell_type": "markdown",
   "metadata": {},
   "source": [
    "### Problem 4 (20 points)\n",
    "\n",
    "You've been handed some code to analyze. The original coder was not very considerate of other potential users: the function is called `mystery_function` and there are no comments explaining the purpose of the code. It appears to take in an array and return some numbers, and you've been assured that the code works as intended."
   ]
  },
  {
   "cell_type": "code",
   "execution_count": 5,
   "metadata": {},
   "outputs": [
    {
     "name": "stdout",
     "output_type": "stream",
     "text": [
      "mystery_function(list_of_values) = Any[1, 2, 3, 4]\n"
     ]
    }
   ],
   "source": [
    "function mystery_function(values)\n",
    "    y = []\n",
    "    for v in values\n",
    "        if !(v in y)\n",
    "            append!(y, v)\n",
    "        end\n",
    "    end\n",
    "    return y\n",
    "end\n",
    "\n",
    "list_of_values = [1, 2, 3, 4, 3, 4, 2, 1]\n",
    "@show mystery_function(list_of_values);"
   ]
  },
  {
   "cell_type": "markdown",
   "metadata": {},
   "source": [
    "#### Problem 4.1 (10 points)\n",
    "\n",
    "Explain the purpose of `mystery_function`."
   ]
  },
  {
   "cell_type": "markdown",
   "metadata": {},
   "source": [
    "#### Problem 4.2 (10 points)\n",
    "\n",
    "Add comments to the code, explaining why and how it works. Refer to [\"Best Practices for Writing Code Comments\"](https://stackoverflow.blog/2021/12/23/best-practices-for-writing-code-comments/), and remember that bad comments can be just as bad as no comments at all. You do not need to add comments to every line (in fact, this is very bad practice), but you should note the *purpose* of every \"section\" of code, and add comments explaining any code sequences that you don't immediately understand."
   ]
  },
  {
   "cell_type": "markdown",
   "metadata": {},
   "source": [
    "### Problem 5 (20 points)\n",
    "\n",
    "You and your classmate are trying to determine the expected payoff of the following game:\n",
    "- Flip a coin (which has probability $p$ of heads) 10 times;\n",
    "- If 3 consecutive heads occur one or more times, pay 1 dollar;\n",
    "- If not, pay nothing.\n",
    "\n",
    "Your classmate has written the following code, which correctly simulates one realization of this game with a fair coin."
   ]
  },
  {
   "cell_type": "code",
   "execution_count": 6,
   "metadata": {},
   "outputs": [
    {
     "name": "stdout",
     "output_type": "stream",
     "text": [
      "payoff = 0\n"
     ]
    },
    {
     "data": {
      "text/plain": [
       "0"
      ]
     },
     "execution_count": 6,
     "metadata": {},
     "output_type": "execute_result"
    }
   ],
   "source": [
    "# initialize variables, as this code works by iterating over each coin flip and adding\n",
    "let payoff = 0, count = 0\n",
    "\n",
    "    # loop over coin flips and compute payoff: this code is pretty literal with the rules of the game other than just using `rand()` to produce the heads vs. tails coin outcome.\n",
    "    for i in 1:10\n",
    "        U = rand()\n",
    "        if U < 0.5\n",
    "            count += 1\n",
    "        else\n",
    "            count = 0\n",
    "        end\n",
    "        if count == 3\n",
    "            payoff = 1\n",
    "        end\n",
    "    end\n",
    "    @show payoff;\n",
    "end"
   ]
  },
  {
   "cell_type": "markdown",
   "metadata": {},
   "source": [
    "However, you would like to conduct multiple trials to compute the expected payoff, and might want to look at coins which are not fair ($p \\neq 0.5$). To minimize copying-and-pasting code, you decide to turn this script into a function."
   ]
  },
  {
   "cell_type": "markdown",
   "metadata": {},
   "source": [
    "#### Problem 5.1 (10 points)\n",
    "\n",
    "Rewrite the above code in a function which accepts two arguments: the number of trials $N$ and the probability of heads $p$, and returns the expected payoff."
   ]
  },
  {
   "cell_type": "markdown",
   "metadata": {},
   "source": [
    "#### Problem 5.2 (10 points)\n",
    "\n",
    "Use your function to compare the expected payoff after 1000 trials of this game with a fair coin vs. a coin which has a 70% probability of heads."
   ]
  }
 ],
 "metadata": {
  "kernelspec": {
   "display_name": "Julia 1.8.2",
   "language": "julia",
   "name": "julia-1.8"
  },
  "language_info": {
   "file_extension": ".jl",
   "mimetype": "application/julia",
   "name": "julia",
   "version": "1.8.2"
  }
 },
 "nbformat": 4,
 "nbformat_minor": 3
}
