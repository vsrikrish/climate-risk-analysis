{
 "cells": [
  {
   "cell_type": "markdown",
   "metadata": {},
   "source": [
    "# Homework 1, BEE 6940 (Due By 2/2/23, 9:00PM)"
   ]
  },
  {
   "cell_type": "markdown",
   "metadata": {},
   "source": [
    "**Name**:\n",
    "\n",
    "**ID**:"
   ]
  },
  {
   "cell_type": "markdown",
   "metadata": {},
   "source": [
    "## Overview"
   ]
  },
  {
   "cell_type": "markdown",
   "metadata": {},
   "source": [
    "### Instructions\n",
    "\n",
    "This homework consists of two parts:\n",
    "- Problems 1 and 2 involve writing Julia functions to ensure that you have a good grip on basic Julia syntax.\n",
    "- Problems 3-6 consist of a series of code snippets for you to interpret and debug. For Problems 3-5, you will be asked to identify relevant error(s) and fix the code. For Problem 6, the code works as intended; your goal is to identify the code's purpose by following its logic."
   ]
  },
  {
   "cell_type": "markdown",
   "metadata": {},
   "source": [
    "### Load Environment\n",
    "\n",
    "The following code loads the environment and makes sure all needed packages are installed. This should be at the start of most Julia scripts."
   ]
  },
  {
   "cell_type": "code",
   "execution_count": 1,
   "metadata": {},
   "outputs": [
    {
     "name": "stdout",
     "output_type": "stream",
     "text": [
      "  Activating project at `~/Teaching/BEE6940/hw/hw1`\n"
     ]
    }
   ],
   "source": [
    "import Pkg\n",
    "Pkg.activate(@__DIR__)\n",
    "Pkg.instantiate(io=devnull)"
   ]
  },
  {
   "cell_type": "markdown",
   "metadata": {},
   "source": [
    "## Problems (Total: 100 Points)"
   ]
  },
  {
   "cell_type": "markdown",
   "metadata": {},
   "source": [
    "### Problem 1 (15 points)\n",
    "\n",
    "This problem involves implementing Newton's method for computing square roots; it was shamelessly copied from MIT's [Introduction to Computational Thinking](https://computationalthinking.mit.edu/Spring21/hw0/)."
   ]
  },
  {
   "cell_type": "markdown",
   "metadata": {},
   "source": [
    "#### Problem 1.1 (10 points)\n",
    "\n",
    "Implement the following algorithm in a function `newton_sqrt`:\n",
    "\n",
    "Given $x > 0$:\n",
    "1. Take a guess $a$.\n",
    "2. Divide $x$ by $a$.\n",
    "3. Update $a$ as the average of $x/a$ and $a$.\n",
    "4. Repeat until $x/a$ is within a tolerance of $\\varepsilon$ from $a$..\n",
    "5. Return $a \\approx \\sqrt{x}$."
   ]
  },
  {
   "cell_type": "markdown",
   "metadata": {},
   "source": [
    "#### Problem 1.2 (5 points)\n",
    "\n",
    "Use your `newton_sqrt` function to compute $\\sqrt{2}$ to within a tolerance of $\\varepsilon = 0.01$"
   ]
  },
  {
   "cell_type": "markdown",
   "metadata": {},
   "source": [
    "### Problem 2 (25 points)"
   ]
  },
  {
   "cell_type": "markdown",
   "metadata": {},
   "source": [
    "#### Problem 2.1 (10 points)\n",
    "\n",
    "Load the `Distributions.jl` package (which is provided in the notebook environment) and sample 100 variables from a normal distribution with mean 1 and standard deviation 5, e.g. $x_i \\sim N(1, 5)$."
   ]
  },
  {
   "cell_type": "markdown",
   "metadata": {},
   "source": [
    "#### Problem 2.2 (10 points)\n",
    "\n",
    "Write a function `mean_loop` to compute the mean of this vector $\\bar{x}$ using a `for` loop."
   ]
  },
  {
   "cell_type": "markdown",
   "metadata": {},
   "source": [
    "#### Problem 2.3 (5 points)\n",
    "\n",
    "Use broadcasting to subtract the mean $\\bar{x}$ from each element of your vector of sampled variables."
   ]
  },
  {
   "cell_type": "markdown",
   "metadata": {},
   "source": [
    "### Problem 3 (15 points)\n",
    "\n",
    "You've been tasked with writing code to identify the minimum value in an array. You cannot use a predefined function. Your colleague suggested the function below, but it does not return the minimum value."
   ]
  },
  {
   "cell_type": "code",
   "execution_count": 2,
   "metadata": {},
   "outputs": [
    {
     "name": "stdout",
     "output_type": "stream",
     "text": [
      "minimum(array_values) = 0\n"
     ]
    }
   ],
   "source": [
    "function minimum(array)\n",
    "    min_value = 0 # variable which stores minimum value\n",
    "    for i in 1:length(array)\n",
    "        if array[i] < min_value\n",
    "            min_value = array[i]\n",
    "        end\n",
    "    end\n",
    "    return min_value\n",
    "end\n",
    "\n",
    "array_values = [89, 90, 95, 100, 100, 78, 99, 98, 100, 95]\n",
    "@show minimum(array_values);"
   ]
  },
  {
   "cell_type": "markdown",
   "metadata": {},
   "source": [
    "#### Problem 3.1 (5 points)\n",
    "\n",
    "Describe the logic error."
   ]
  },
  {
   "cell_type": "markdown",
   "metadata": {},
   "source": [
    "#### Problem 3.2 (5 points)\n",
    "\n",
    "Write a fixed version of the function."
   ]
  },
  {
   "cell_type": "markdown",
   "metadata": {},
   "source": [
    "#### Problem 3.3 (5 points)\n",
    "\n",
    "Use your fixed function to find the minimum value of `array_values`."
   ]
  },
  {
   "cell_type": "markdown",
   "metadata": {},
   "source": [
    "### Problem 4 (15 points)\n",
    "\n",
    "Your team is trying to compute the average grade for your class, but the following code produces an error."
   ]
  },
  {
   "cell_type": "code",
   "execution_count": 11,
   "metadata": {},
   "outputs": [
    {
     "ename": "UndefVarError",
     "evalue": "UndefVarError: average_grade not defined",
     "output_type": "error",
     "traceback": [
      "UndefVarError: average_grade not defined\n",
      "\n",
      "Stacktrace:\n",
      " [1] top-level scope\n",
      "   @ show.jl:1047"
     ]
    }
   ],
   "source": [
    "student_grades = [89, 90, 95, 100, 100, 78, 99, 98, 100, 95]\n",
    "function class_average(grades)\n",
    "  average_grade = mean(student_grades)\n",
    "  return average_grade\n",
    "end\n",
    "\n",
    "@show average_grade;"
   ]
  },
  {
   "cell_type": "markdown",
   "metadata": {},
   "source": [
    "#### Problem 4.1 (5 points)\n",
    "\n",
    "Describe the logic and/or syntax error."
   ]
  },
  {
   "cell_type": "markdown",
   "metadata": {},
   "source": [
    "#### Problem 4.2 (5 points)\n",
    "\n",
    "Write a fixed version of the code."
   ]
  },
  {
   "cell_type": "markdown",
   "metadata": {},
   "source": [
    "#### Problem 4.3 (5 points)\n",
    "\n",
    "Use your fixed code to compute the average grade for the class."
   ]
  },
  {
   "cell_type": "markdown",
   "metadata": {},
   "source": [
    "### Problem 5 (15 points)\n",
    "\n",
    "Your team has collected data on the mileage of different car models. You want to calculate the average mileage per gallon (MPG) for the different cars, but your code produces the same value for all of the vehicles, which makes you suspicious."
   ]
  },
  {
   "cell_type": "code",
   "execution_count": 4,
   "metadata": {},
   "outputs": [
    {
     "name": "stdout",
     "output_type": "stream",
     "text": [
      "mpg = [30.363636363636363, 30.363636363636363, 30.363636363636363, 30.363636363636363, 30.363636363636363, 30.363636363636363]\n"
     ]
    }
   ],
   "source": [
    "# function to calculate MPG given a tuple of miles and gallons\n",
    "function calculate_MPG((miles, gallons))\n",
    "    return miles / gallons\n",
    "end\n",
    "\n",
    "car_miles =  [(334, 11), (289, 15), (306, 12), (303, 20), (350, 20), (294, 14)]\n",
    "\n",
    "mpg = zeros(length(car_miles))\n",
    "\n",
    "for i in 1:length(car_miles)\n",
    "    miles = car_miles[1][1]\n",
    "    gallon = car_miles[1][2]\n",
    "    mpg[i] = calculate_MPG((miles, gallon))\n",
    "end\n",
    "@show mpg;"
   ]
  },
  {
   "cell_type": "markdown",
   "metadata": {},
   "source": [
    "##### Problem 5.1 (5 points)\n",
    "\n",
    "Describe the logic error."
   ]
  },
  {
   "cell_type": "markdown",
   "metadata": {},
   "source": [
    "#### Problem 5.2 (5 points)\n",
    "\n",
    "Write a fixed version of the code."
   ]
  },
  {
   "cell_type": "markdown",
   "metadata": {},
   "source": [
    "#### Problem 5.3 (5 points)\n",
    "\n",
    "Use your fixed code to compute the MPGs."
   ]
  },
  {
   "cell_type": "markdown",
   "metadata": {},
   "source": [
    "### Problem 6 (15 points)\n",
    "\n",
    "You've been handed some code to analyze. The original coder was not very considerate of other potential users: the function is called `mystery_function` and there are no comments explaining the purpose of the code. It appears to take in an array and return some numbers, and you've been assured that the code works as intended."
   ]
  },
  {
   "cell_type": "code",
   "execution_count": 5,
   "metadata": {},
   "outputs": [
    {
     "name": "stdout",
     "output_type": "stream",
     "text": [
      "mystery_function(list_of_values) = Any[1, 2, 3, 4]\n"
     ]
    }
   ],
   "source": [
    "function mystery_function(values)\n",
    "    y = []\n",
    "    for v in values\n",
    "        if !(v in y)\n",
    "            append!(y, v)\n",
    "        end\n",
    "    end\n",
    "    return y\n",
    "end\n",
    "\n",
    "list_of_values = [1, 2, 3, 4, 3, 4, 2, 1]\n",
    "@show mystery_function(list_of_values);"
   ]
  },
  {
   "cell_type": "markdown",
   "metadata": {},
   "source": [
    "#### Problem 6.1 (5 points)\n",
    "\n",
    "Explain the purpose of `mystery_function`."
   ]
  },
  {
   "cell_type": "markdown",
   "metadata": {},
   "source": [
    "#### Problem 6.2 (10 points)\n",
    "\n",
    "Add comments to each line of code, explaining what it is doing and why."
   ]
  }
 ],
 "metadata": {
  "kernelspec": {
   "display_name": "Julia 1.8.2",
   "language": "julia",
   "name": "julia-1.8"
  },
  "language_info": {
   "file_extension": ".jl",
   "mimetype": "application/julia",
   "name": "julia",
   "version": "1.8.2"
  }
 },
 "nbformat": 4,
 "nbformat_minor": 3
}
